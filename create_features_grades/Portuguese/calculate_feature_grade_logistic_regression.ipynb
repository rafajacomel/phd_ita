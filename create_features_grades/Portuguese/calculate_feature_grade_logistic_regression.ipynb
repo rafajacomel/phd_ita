{
 "cells": [
  {
   "cell_type": "code",
   "execution_count": 53,
   "id": "0f648987",
   "metadata": {},
   "outputs": [],
   "source": [
    "import pandas as pd\n",
    "import numpy as np\n",
    "import matplotlib.pyplot as plt\n",
    "import nltk\n",
    "from nltk.corpus import stopwords\n",
    "from nltk.tokenize import RegexpTokenizer\n",
    "from nltk import word_tokenize, FreqDist, regexp_tokenize\n",
    "from nltk.stem.wordnet import WordNetLemmatizer\n",
    "from nltk.stem.snowball import SnowballStemmer\n",
    "from nltk.collocations import BigramAssocMeasures\n",
    "from sklearn.feature_extraction.text import TfidfVectorizer, CountVectorizer\n",
    "from sklearn.feature_selection import SelectPercentile, mutual_info_classif, chi2\n",
    "from sklearn.naive_bayes import GaussianNB\n",
    "from sklearn.metrics import plot_confusion_matrix, roc_auc_score, classification_report\n",
    "from sklearn.model_selection import train_test_split, cross_val_score\n",
    "from sklearn.model_selection import GridSearchCV\n",
    "from sklearn.linear_model import LogisticRegression\n",
    "from sklearn.pipeline import Pipeline\n",
    "from sklearn.base import BaseEstimator, TransformerMixin\n",
    "from sklearn.svm import LinearSVC\n",
    "from sklearn.metrics import accuracy_score\n",
    "from sklearn.decomposition import PCA\n",
    "from gensim.models import word2vec\n",
    "from spellchecker import SpellChecker\n",
    "from collections import Counter\n",
    "from wordcloud import WordCloud\n",
    "from bs4 import BeautifulSoup\n",
    "import json\n",
    "import requests\n",
    "import xgboost as xgb\n",
    "import itertools\n",
    "import string\n",
    "import re\n",
    "%matplotlib inline"
   ]
  },
  {
   "cell_type": "code",
   "execution_count": 54,
   "id": "9b71ec39",
   "metadata": {},
   "outputs": [
    {
     "name": "stderr",
     "output_type": "stream",
     "text": [
      "[nltk_data] Downloading package wordnet to\n",
      "[nltk_data]     C:\\Users\\RafaelMedeirosJacome\\AppData\\Roaming\\nltk_dat\n",
      "[nltk_data]     a...\n",
      "[nltk_data]   Package wordnet is already up-to-date!\n",
      "[nltk_data] Downloading package stopwords to\n",
      "[nltk_data]     C:\\Users\\RafaelMedeirosJacome\\AppData\\Roaming\\nltk_dat\n",
      "[nltk_data]     a...\n",
      "[nltk_data]   Package stopwords is already up-to-date!\n"
     ]
    },
    {
     "data": {
      "text/plain": [
       "True"
      ]
     },
     "execution_count": 54,
     "metadata": {},
     "output_type": "execute_result"
    }
   ],
   "source": [
    "import nltk\n",
    "nltk.download('wordnet')\n",
    "nltk.download('stopwords')"
   ]
  },
  {
   "cell_type": "code",
   "execution_count": 55,
   "id": "c67b9f75",
   "metadata": {},
   "outputs": [],
   "source": [
    "file='movies_portuguese.csv'\n",
    "df=pd.read_csv(file, encoding='utf-8')"
   ]
  },
  {
   "cell_type": "code",
   "execution_count": 56,
   "id": "e111706b",
   "metadata": {},
   "outputs": [
    {
     "data": {
      "text/html": [
       "<div>\n",
       "<style scoped>\n",
       "    .dataframe tbody tr th:only-of-type {\n",
       "        vertical-align: middle;\n",
       "    }\n",
       "\n",
       "    .dataframe tbody tr th {\n",
       "        vertical-align: top;\n",
       "    }\n",
       "\n",
       "    .dataframe thead th {\n",
       "        text-align: right;\n",
       "    }\n",
       "</style>\n",
       "<table border=\"1\" class=\"dataframe\">\n",
       "  <thead>\n",
       "    <tr style=\"text-align: right;\">\n",
       "      <th></th>\n",
       "      <th>text</th>\n",
       "      <th>label</th>\n",
       "    </tr>\n",
       "  </thead>\n",
       "  <tbody>\n",
       "    <tr>\n",
       "      <th>0</th>\n",
       "      <td>Recebi bem antes do prazo estipulado.</td>\n",
       "      <td>1</td>\n",
       "    </tr>\n",
       "    <tr>\n",
       "      <th>1</th>\n",
       "      <td>Parabéns lojas lannister adorei comprar pela I...</td>\n",
       "      <td>1</td>\n",
       "    </tr>\n",
       "    <tr>\n",
       "      <th>2</th>\n",
       "      <td>aparelho eficiente. no site a marca do aparelh...</td>\n",
       "      <td>1</td>\n",
       "    </tr>\n",
       "    <tr>\n",
       "      <th>3</th>\n",
       "      <td>Mas um pouco ,travando...pelo valor ta Boa.\\r\\n</td>\n",
       "      <td>1</td>\n",
       "    </tr>\n",
       "    <tr>\n",
       "      <th>4</th>\n",
       "      <td>Vendedor confiável, produto ok e entrega antes...</td>\n",
       "      <td>1</td>\n",
       "    </tr>\n",
       "  </tbody>\n",
       "</table>\n",
       "</div>"
      ],
      "text/plain": [
       "                                                text  label\n",
       "0              Recebi bem antes do prazo estipulado.      1\n",
       "1  Parabéns lojas lannister adorei comprar pela I...      1\n",
       "2  aparelho eficiente. no site a marca do aparelh...      1\n",
       "3    Mas um pouco ,travando...pelo valor ta Boa.\\r\\n      1\n",
       "4  Vendedor confiável, produto ok e entrega antes...      1"
      ]
     },
     "execution_count": 56,
     "metadata": {},
     "output_type": "execute_result"
    }
   ],
   "source": [
    "df.head()"
   ]
  },
  {
   "cell_type": "code",
   "execution_count": 57,
   "id": "68b3441b",
   "metadata": {},
   "outputs": [
    {
     "data": {
      "text/plain": [
       "1    25873\n",
       "0    14127\n",
       "Name: label, dtype: int64"
      ]
     },
     "execution_count": 57,
     "metadata": {},
     "output_type": "execute_result"
    }
   ],
   "source": [
    "df['label'].value_counts()"
   ]
  },
  {
   "cell_type": "code",
   "execution_count": 58,
   "id": "ab4fe8bc",
   "metadata": {},
   "outputs": [],
   "source": [
    "text=df['text'].str.lower()\n",
    "labels=df['label']\n",
    "X_train, X_test, y_train, y_test = train_test_split(text,labels,test_size=.2,random_state=20)"
   ]
  },
  {
   "cell_type": "code",
   "execution_count": 59,
   "id": "96e0856e",
   "metadata": {},
   "outputs": [
    {
     "data": {
      "text/plain": [
       "36862    muito insatisfeita pois eu comprei o produto n...\n",
       "11768    comprei um tapete com o nome \"tapete flash g b...\n",
       "36393       eu esperava q o produto fosse um pouco melhor.\n",
       "12031    produto de qualidade original, e entrega dentr...\n",
       "27211    recebi o produto no prazo e o material de qual...\n",
       "Name: text, dtype: object"
      ]
     },
     "execution_count": 59,
     "metadata": {},
     "output_type": "execute_result"
    }
   ],
   "source": [
    "X_train.head()"
   ]
  },
  {
   "cell_type": "code",
   "execution_count": 60,
   "id": "ee9820fd",
   "metadata": {},
   "outputs": [],
   "source": [
    "pattern = \"[A-Za-zÀ-ÿ]+\"\n",
    "#pattern = \"([a-zA-Z]+(?:'[a-z]+)?)\"\n",
    "stopwords_list=stopwords.words('portuguese')\n",
    "tokenizer=RegexpTokenizer(pattern)\n",
    "tokenized_train=X_train.apply(tokenizer.tokenize)"
   ]
  },
  {
   "cell_type": "code",
   "execution_count": 61,
   "id": "8b27b7f1",
   "metadata": {},
   "outputs": [
    {
     "name": "stdout",
     "output_type": "stream",
     "text": [
      "36862    [muito, insatisfeita, pois, eu, comprei, o, pr...\n",
      "11768    [comprei, um, tapete, com, o, nome, tapete, fl...\n",
      "36393    [eu, esperava, q, o, produto, fosse, um, pouco...\n",
      "12031    [produto, de, qualidade, original, e, entrega,...\n",
      "27211    [recebi, o, produto, no, prazo, e, o, material...\n",
      "23690    [entrega, rápida, antes, da, data, prevista, p...\n",
      "32052                                                [boa]\n",
      "14337                      [entrega, rápida, como, sempre]\n",
      "16003    [produto, conforme, a, imagem, ilustrativa, su...\n",
      "39921    [demorou, semana, para, gerar, a, nota, e, no,...\n",
      "17504    [chegou, antes, do, prazo, bem, embalado, e, e...\n",
      "2468     [ótimo, produto, entrega, rápida, e, super, be...\n",
      "23264    [produto, de, boa, qualidade, recebi, no, praz...\n",
      "228                                           [loja, nota]\n",
      "33826    [abri, a, embalagem, cx, papelão, e, esperava,...\n",
      "16926    [obs, como, voces, dividiram, fracionaram, o, ...\n",
      "7979                                    [chegou, quebrado]\n",
      "36173    [foi, bem, rápido, a, entrega, estou, satisfeita]\n",
      "21241    [chamei, até, pessoas, da, área, e, não, conse...\n",
      "24802    [ja, comprei, outras, toalhas, pelo, baratheon...\n",
      "Name: text, dtype: object\n"
     ]
    }
   ],
   "source": [
    "print(tokenized_train[:20])"
   ]
  },
  {
   "cell_type": "code",
   "execution_count": 62,
   "id": "78743ac6",
   "metadata": {},
   "outputs": [],
   "source": [
    "def remove_stopwords(token_list):\n",
    "    \"\"\"\n",
    "    Given a list of tokens, return a list where the tokens\n",
    "    that are also present in stopwords_list have been\n",
    "    removed\n",
    "    \"\"\"\n",
    "    stopwords_removed = [token for token in token_list if token not in stopwords_list]\n",
    "    return stopwords_removed"
   ]
  },
  {
   "cell_type": "code",
   "execution_count": 63,
   "id": "2cca4caa",
   "metadata": {},
   "outputs": [],
   "source": [
    "ns_tk_train=tokenized_train.apply(remove_stopwords)"
   ]
  },
  {
   "cell_type": "code",
   "execution_count": 64,
   "id": "d749a686",
   "metadata": {},
   "outputs": [
    {
     "data": {
      "text/plain": [
       "36862    [muito, insatisfeita, pois, eu, comprei, o, pr...\n",
       "11768    [comprei, um, tapete, com, o, nome, tapete, fl...\n",
       "36393    [eu, esperava, q, o, produto, fosse, um, pouco...\n",
       "12031    [produto, de, qualidade, original, e, entrega,...\n",
       "27211    [recebi, o, produto, no, prazo, e, o, material...\n",
       "Name: text, dtype: object"
      ]
     },
     "execution_count": 64,
     "metadata": {},
     "output_type": "execute_result"
    }
   ],
   "source": [
    "tokenized_train.head()"
   ]
  },
  {
   "cell_type": "code",
   "execution_count": 65,
   "id": "f4f5c8a3",
   "metadata": {},
   "outputs": [
    {
     "data": {
      "text/plain": [
       "36862    [insatisfeita, pois, comprei, produto, recebi,...\n",
       "11768    [comprei, tapete, nome, tapete, flash, g, borr...\n",
       "36393                [esperava, q, produto, pouco, melhor]\n",
       "12031    [produto, qualidade, original, entrega, dentro...\n",
       "27211    [recebi, produto, prazo, material, qualidade, ...\n",
       "Name: text, dtype: object"
      ]
     },
     "execution_count": 65,
     "metadata": {},
     "output_type": "execute_result"
    }
   ],
   "source": [
    "ns_tk_train.head()"
   ]
  },
  {
   "cell_type": "code",
   "execution_count": 66,
   "id": "0e6e787a",
   "metadata": {},
   "outputs": [],
   "source": [
    "new_df=pd.concat([tokenized_train,ns_tk_train,y_train],axis=1)\n",
    "new_df.columns=['token','no-stop','label']"
   ]
  },
  {
   "cell_type": "code",
   "execution_count": 67,
   "id": "0ab04a9a",
   "metadata": {},
   "outputs": [],
   "source": [
    "pos_reviews=new_df[new_df['label']==1]\n",
    "neg_reviews=new_df[new_df['label']==0]"
   ]
  },
  {
   "cell_type": "code",
   "execution_count": 68,
   "id": "7551eaa2",
   "metadata": {},
   "outputs": [],
   "source": [
    "#Get Freq distributions for tokens w/ and w/o stopwords and compare top words\n",
    "pos_freq = FreqDist(pos_reviews['token'].explode()).most_common(10)\n",
    "pos_ns_freq = FreqDist(pos_reviews['no-stop'].explode()).most_common(10)\n",
    "neg_freq = FreqDist(neg_reviews['token'].explode()).most_common(10)\n",
    "neg_ns_freq = FreqDist(neg_reviews['no-stop'].explode()).most_common(10)\n",
    "freqs=[pos_freq,pos_ns_freq,neg_freq,neg_ns_freq]"
   ]
  },
  {
   "cell_type": "code",
   "execution_count": 69,
   "id": "4882268c",
   "metadata": {},
   "outputs": [
    {
     "data": {
      "text/plain": [
       "13055"
      ]
     },
     "execution_count": 69,
     "metadata": {},
     "output_type": "execute_result"
    }
   ],
   "source": [
    "#total number of words in all reviews after stop words removed\n",
    "fd=FreqDist(new_df['no-stop'].explode())\n",
    "len(fd)"
   ]
  },
  {
   "cell_type": "code",
   "execution_count": 70,
   "id": "de26a1e7",
   "metadata": {},
   "outputs": [
    {
     "data": {
      "image/png": "[encoded data removed]",
      "text/plain": [
       "<Figure size 1080x576 with 4 Axes>"
      ]
     },
     "metadata": {
      "needs_background": "light"
     },
     "output_type": "display_data"
    }
   ],
   "source": [
    "#Plot distributions for comparison\n",
    "fig,axes=plt.subplots(2,2,figsize=(15,8))\n",
    "titles=['Pos All','Pos No Stop','Neg All','Neg No Stop']\n",
    "\n",
    "for count,ax in enumerate(axes.flatten()):\n",
    "    x=[tup[0] for tup in freqs[count]]\n",
    "    y=[tup[1] for tup in freqs[count]]\n",
    "    ax.bar(x,y)\n",
    "    ax.set_title(titles[count])"
   ]
  },
  {
   "cell_type": "code",
   "execution_count": 71,
   "id": "aa5ccb47",
   "metadata": {},
   "outputs": [
    {
     "data": {
      "text/html": [
       "<div>\n",
       "<style scoped>\n",
       "    .dataframe tbody tr th:only-of-type {\n",
       "        vertical-align: middle;\n",
       "    }\n",
       "\n",
       "    .dataframe tbody tr th {\n",
       "        vertical-align: top;\n",
       "    }\n",
       "\n",
       "    .dataframe thead th {\n",
       "        text-align: right;\n",
       "    }\n",
       "</style>\n",
       "<table border=\"1\" class=\"dataframe\">\n",
       "  <thead>\n",
       "    <tr style=\"text-align: right;\">\n",
       "      <th></th>\n",
       "      <th>token</th>\n",
       "      <th>no-stop</th>\n",
       "      <th>label</th>\n",
       "      <th>contains_br</th>\n",
       "    </tr>\n",
       "  </thead>\n",
       "  <tbody>\n",
       "    <tr>\n",
       "      <th>18698</th>\n",
       "      <td>[bom, dia, gostaria, de, saber, porque, meu, p...</td>\n",
       "      <td>[bom, dia, gostaria, saber, porque, pedido, ve...</td>\n",
       "      <td>0</td>\n",
       "      <td>1</td>\n",
       "    </tr>\n",
       "    <tr>\n",
       "      <th>32034</th>\n",
       "      <td>[chego, certo, adoro, comprar, na, lannister, ...</td>\n",
       "      <td>[chego, certo, adoro, comprar, lannister, br, ...</td>\n",
       "      <td>1</td>\n",
       "      <td>1</td>\n",
       "    </tr>\n",
       "    <tr>\n",
       "      <th>29086</th>\n",
       "      <td>[fiz, vários, pedidos, lannister, com, br, ess...</td>\n",
       "      <td>[fiz, vários, pedidos, lannister, br, pedido, ...</td>\n",
       "      <td>0</td>\n",
       "      <td>1</td>\n",
       "    </tr>\n",
       "    <tr>\n",
       "      <th>26876</th>\n",
       "      <td>[há, muito, sou, cliente, de, lannister, com, ...</td>\n",
       "      <td>[cliente, lannister, br, momento, tudo, transc...</td>\n",
       "      <td>1</td>\n",
       "      <td>1</td>\n",
       "    </tr>\n",
       "    <tr>\n",
       "      <th>38276</th>\n",
       "      <td>[rastreamento, pp, br, ainda, não, chegou, na,...</td>\n",
       "      <td>[rastreamento, pp, br, ainda, chegou, unidade,...</td>\n",
       "      <td>0</td>\n",
       "      <td>1</td>\n",
       "    </tr>\n",
       "  </tbody>\n",
       "</table>\n",
       "</div>"
      ],
      "text/plain": [
       "                                                   token  \\\n",
       "18698  [bom, dia, gostaria, de, saber, porque, meu, p...   \n",
       "32034  [chego, certo, adoro, comprar, na, lannister, ...   \n",
       "29086  [fiz, vários, pedidos, lannister, com, br, ess...   \n",
       "26876  [há, muito, sou, cliente, de, lannister, com, ...   \n",
       "38276  [rastreamento, pp, br, ainda, não, chegou, na,...   \n",
       "\n",
       "                                                 no-stop  label  contains_br  \n",
       "18698  [bom, dia, gostaria, saber, porque, pedido, ve...      0            1  \n",
       "32034  [chego, certo, adoro, comprar, lannister, br, ...      1            1  \n",
       "29086  [fiz, vários, pedidos, lannister, br, pedido, ...      0            1  \n",
       "26876  [cliente, lannister, br, momento, tudo, transc...      1            1  \n",
       "38276  [rastreamento, pp, br, ainda, chegou, unidade,...      0            1  "
      ]
     },
     "execution_count": 71,
     "metadata": {},
     "output_type": "execute_result"
    }
   ],
   "source": [
    "new_df['contains_br']=new_df['no-stop'].apply(lambda x: 1 if 'br' in x else 0)\n",
    "contains_br=new_df[new_df['contains_br']==1]\n",
    "contains_br.head()"
   ]
  },
  {
   "cell_type": "code",
   "execution_count": 72,
   "id": "b2f1158b",
   "metadata": {},
   "outputs": [],
   "source": [
    "tokens_train=ns_tk_train.apply(lambda tok_list: [tok for tok in tok_list if tok!='br'])"
   ]
  },
  {
   "cell_type": "code",
   "execution_count": 73,
   "id": "dd5ef0f2",
   "metadata": {},
   "outputs": [
    {
     "data": {
      "image/png": "[encoded data removed]",
      "text/plain": [
       "<Figure size 576x432 with 2 Axes>"
      ]
     },
     "metadata": {
      "needs_background": "light"
     },
     "output_type": "display_data"
    }
   ],
   "source": [
    "#redo top freq charts\n",
    "tok_df=pd.concat([tokens_train,y_train],axis=1)\n",
    "tok_df.columns=['token','label']\n",
    "pos=tok_df[tok_df['label']==1]\n",
    "neg=tok_df[tok_df['label']==0]\n",
    "pos_fd=FreqDist(pos['token'].explode()).most_common(10)\n",
    "neg_fd=FreqDist(neg['token'].explode()).most_common(10)\n",
    "pos_fd.sort(key=lambda x: x[1])\n",
    "neg_fd.sort(key=lambda x: x[1])\n",
    "\n",
    "fig,axes=plt.subplots(2,figsize=(8,6))\n",
    "\n",
    "pos_x=[tup[0] for tup in pos_fd]\n",
    "pos_y=[tup[1] for tup in pos_fd]\n",
    "neg_x=[tup[0] for tup in neg_fd]\n",
    "neg_y=[tup[1] for tup in neg_fd]\n",
    "\n",
    "\n",
    "\n",
    "axes[0].barh(pos_x,pos_y,color='blue')\n",
    "axes[0].set_title('Top Words in Positive Reviews',fontsize=14)\n",
    "axes[1].barh(neg_x,neg_y,color='purple')\n",
    "axes[1].set_title('Top Words in Negative Reviews',fontsize=14)\n",
    "plt.tight_layout()"
   ]
  },
  {
   "cell_type": "code",
   "execution_count": 84,
   "id": "5ea6cccc",
   "metadata": {},
   "outputs": [],
   "source": [
    "stopwords_list=stopwords.words('portuguese')\n",
    "stopwords_list.append('br')\n",
    "#remove=['up','down','didn',\"didn't\",'wasn',\"wasn't\",'wouldn',\"wouldn't\"]\n",
    "#for word in remove:\n",
    "#    stopwords_list.remove(word)\n",
    "    \n",
    "stemmer=SnowballStemmer('portuguese')\n",
    "stopwords_stemmed=[]\n",
    "\n",
    "for w in stopwords_list:\n",
    "    stopwords_stemmed.append(stemmer.stem(w))\n",
    "    \n",
    "wnl=WordNetLemmatizer()\n",
    "stopwords_lemmatized=[]\n",
    "\n",
    "for w in stopwords_list:\n",
    "    stopwords_lemmatized.append(wnl.lemmatize(w))"
   ]
  },
  {
   "cell_type": "code",
   "execution_count": 85,
   "id": "b4eaf0c1",
   "metadata": {},
   "outputs": [],
   "source": [
    "def correct_spelling(tokens):\n",
    "    spell=SpellChecker()\n",
    "    fixed=[spell.correction(t) if len(spell.unknown([t]))>0 else t for t in tokens]\n",
    "    return fixed"
   ]
  },
  {
   "cell_type": "code",
   "execution_count": 86,
   "id": "5ce982e5",
   "metadata": {},
   "outputs": [],
   "source": [
    "class W2vVectorizer(object):\n",
    "    \n",
    "    def __init__(self, w2v):\n",
    "        # Takes in a dictionary of words and vectors as input\n",
    "        self.w2v = w2v\n",
    "        if len(w2v) == 0:\n",
    "            self.dimensions = 0\n",
    "        else:\n",
    "            self.dimensions = len(w2v[next(iter(w2v))])\n",
    "    \n",
    "    # Note: Even though it doesn't do anything, it's required that this object implement a fit method or else\n",
    "    # it can't be used in a scikit-learn pipeline  \n",
    "    def fit(self, X, y):\n",
    "        return self\n",
    "            \n",
    "    def transform(self, X):\n",
    "        return np.array([\n",
    "            np.mean([self.w2v[w] for w in words if w in self.w2v]\n",
    "                   or [np.zeros(self.dimensions)], axis=0) for words in X])"
   ]
  },
  {
   "cell_type": "code",
   "execution_count": 87,
   "id": "2d669055",
   "metadata": {},
   "outputs": [],
   "source": [
    "class DummyTransformer(BaseEstimator, TransformerMixin):\n",
    "    \"\"\"\n",
    "    Dummy class that allows us to modify only the methods that interest us,\n",
    "    avoiding redudancy.\n",
    "    \"\"\"\n",
    "    def __init__(self):\n",
    "        return None\n",
    "\n",
    "    def fit(self, X=None, y=None):\n",
    "        return self\n",
    "\n",
    "    def transform(self, X=None):\n",
    "        return self"
   ]
  },
  {
   "cell_type": "code",
   "execution_count": 88,
   "id": "33c05696",
   "metadata": {},
   "outputs": [],
   "source": [
    "class Preprocess(DummyTransformer):\n",
    "    \n",
    "    def __init__(self,\n",
    "                 stopwords_list=stopwords_list,\n",
    "                 stopwords_stemmed=stopwords_stemmed,\n",
    "                 stopwords_lemmatized=stopwords_lemmatized,\n",
    "                 vector='count', \n",
    "                 stemming=None,\n",
    "                 spell_check=False,\n",
    "                n_grams=(1,1),\n",
    "                max_df=1.0,\n",
    "                 max_feat=None,\n",
    "                chi_percent=None,\n",
    "                y=None):\n",
    "        #defines how the text will be preprocessed\n",
    "        \n",
    "        self.stopwords_list=stopwords_list\n",
    "        self.stopwords_stemmed=stopwords_stemmed\n",
    "        self.stopwords_lemmatized=stopwords_lemmatized\n",
    "        self.vector = vector \n",
    "        #can be 'count','tfidf',or 'embedding'\n",
    "        self.stemming=stemming\n",
    "        #can be 'None','stem','lemmatize'\n",
    "        self.spell_check=spell_check\n",
    "        #True or False\n",
    "        self.n_grams=n_grams\n",
    "        #n_gram to pass to tokenizer like (1,1) or (1,2)\n",
    "        self.max_df=max_df\n",
    "        #positive float less than or equal to 1.0, to pass to vectorizer\n",
    "        self.max_features=max_feat\n",
    "        self.chi_percent=chi_percent\n",
    "        self.y=y\n",
    "        #positive integer less than 100, percent features to keep if filtering with chi2\n",
    "        #None if no filtering\n",
    "        #self.glove_file_=glove_file\n",
    "        #None if using count or tfidf, glove file for word embeddings\n",
    "         \n",
    "            \n",
    "    def tokenize(self,text):\n",
    "        pattern = \"[A-Za-zÀ-ÿ]+\"\n",
    "        tokenizer=RegexpTokenizer(pattern)\n",
    "        tokens=tokenizer.tokenize(text)\n",
    "        \n",
    "        if self.spell_check==True:\n",
    "            tokens=correct_spelling(tokens)\n",
    "        \n",
    "        if self.stemming=='lemmatize':\n",
    "            \n",
    "            wnl=WordNetLemmatizer()\n",
    "            \n",
    "            stems = []\n",
    "            \n",
    "            for item in tokens:\n",
    "                stems.append(wnl.lemmatize(item))\n",
    "                \n",
    "        elif self.stemming=='stem':\n",
    "            stems=[]\n",
    "            stemmer=SnowballStemmer('portuguese')\n",
    "            \n",
    "            for item in tokens:\n",
    "                stems.append(stemmer.stem(item))\n",
    "        \n",
    "        else:\n",
    "            stems=tokens\n",
    "        return stems\n",
    "    \n",
    "    def filter_words_by_count(self,X,tokenized):\n",
    "        \n",
    "        sw=[self.stopwords_list,self.stopwords_stemmed,self.stopwords_lemmatized]\n",
    "        if self.stemming=='None':\n",
    "            idx=0\n",
    "        elif self.stemming=='stem':\n",
    "            idx=1\n",
    "        else:\n",
    "            idx=2\n",
    "            \n",
    "        vectorizer=CountVectorizer(stop_words=sw[idx],\n",
    "                                   max_df=self.max_df,\n",
    "                                   min_df=5)\n",
    "        vectorizer.fit(X)\n",
    "\n",
    "        #filter out words\n",
    "        words_to_keep=vectorizer.vocabulary_.keys()\n",
    "        filtered_data=tokenized.apply(lambda tok: [w for w in tok if w in words_to_keep])\n",
    "\n",
    "        return filtered_data\n",
    "    \n",
    "    def build_glove(self,tokens):\n",
    "        total_vocab=set([word for review in tokens for word in review])\n",
    "        glove = {}\n",
    "        #count=0\n",
    "        #words=[]\n",
    "        with open('glove_portuguese_s100.txt', 'rb') as f:\n",
    "            for line in f:\n",
    "                parts = line.split()\n",
    "                word = parts[0].decode('utf-8')\n",
    "                if word in total_vocab:\n",
    "                    vector = np.array(parts[1:], dtype=np.float32)\n",
    "                    glove[word] = vector\n",
    "                    #count+=1\n",
    "                    #words.append(word)\n",
    "        return glove\n",
    "\n",
    "    def transform(self, X):\n",
    "        \n",
    "        #tokenize according to inputs\n",
    "        sw=[self.stopwords_list,self.stopwords_stemmed,self.stopwords_lemmatized]\n",
    "        if self.stemming=='None':\n",
    "            idx=0\n",
    "        elif self.stemming=='stem':\n",
    "            idx=1\n",
    "        else:\n",
    "            idx=2\n",
    "        \n",
    "        if self.vector=='count':\n",
    "            \n",
    "            vectorizer=CountVectorizer(stop_words=sw[idx],\n",
    "                                       max_features=self.max_features,\n",
    "                                       tokenizer=self.tokenize,\n",
    "                                       ngram_range=self.n_grams,\n",
    "                                       min_df=5,\n",
    "                                       max_df=self.max_df\n",
    "                                      )\n",
    "            tokens=vectorizer.fit_transform(X).toarray()\n",
    "        \n",
    "        elif self.vector=='tfidf':\n",
    "            \n",
    "            vectorizer=TfidfVectorizer(stop_words=sw[idx],\n",
    "                                       max_features=self.max_features,\n",
    "                                       tokenizer=self.tokenize,\n",
    "                                       ngram_range=self.n_grams,\n",
    "                                       min_df=5,\n",
    "                                       max_df=self.max_df\n",
    "                                      )\n",
    "            tokens=vectorizer.fit_transform(X).toarray()\n",
    "            \n",
    "        elif self.vector=='embedding':\n",
    "            tokenized=X.apply(self.tokenize)\n",
    "            filtered=self.filter_words_by_count(X,tokenized)\n",
    "            glove=self.build_glove(filtered)\n",
    "            w2v=W2vVectorizer(glove)\n",
    "            tokens=w2v.transform(filtered)\n",
    "            \n",
    "        if (self.chi_percent != None) and (self.vector != 'embedding'):\n",
    "            \n",
    "            selector=SelectPercentile(chi2,percentile=self.chi_percent)\n",
    "            selected=selector.fit_transform(tokens,self.y)\n",
    "            tokens=selected\n",
    "        #print('finished')\n",
    "        return tokens\n"
   ]
  },
  {
   "cell_type": "code",
   "execution_count": 89,
   "id": "44c33a31",
   "metadata": {},
   "outputs": [],
   "source": [
    "def preprocess_grid(X_train,y_train,vector_type,params_lists):\n",
    "    combos=list(itertools.product(*params_lists))\n",
    "    print(len(combos))\n",
    "    tokenized=[]\n",
    "    count=0\n",
    "    for c in combos:\n",
    "        pp=Preprocess(stopwords_list=stopwords_list,\n",
    "                      vector=vector_type, \n",
    "                     stemming=c[0],\n",
    "                     spell_check=c[1],\n",
    "                    n_grams=c[2],\n",
    "                    max_df=c[3],\n",
    "                    chi_percent=c[4],\n",
    "                      max_feat=10000,\n",
    "                    y=y_train)\n",
    "        tokens=pp.transform(X_train)\n",
    "        tokenized.append((c,tokens))\n",
    "        count+=1\n",
    "        #print(count)\n",
    "    return tokenized"
   ]
  },
  {
   "cell_type": "code",
   "execution_count": 90,
   "id": "9b255972",
   "metadata": {},
   "outputs": [],
   "source": [
    "def pipeline_nlp(estimator,vector_type,X_train,y_train,params_lists):\n",
    "    #returns results from cross validation\n",
    "    \n",
    "    tokenized = preprocess_grid(X_train,y_train,vector_type,params_lists)\n",
    "    results=[]\n",
    "\n",
    "    count=0\n",
    "\n",
    "    for features, xtrain in tokenized:\n",
    "        result=cross_val_score(estimator,xtrain,y_train,cv=3)\n",
    "        results.append((features,result.mean()))\n",
    "        count+=1\n",
    "        #print(count)\n",
    "    \n",
    "    return pd.DataFrame(results)"
   ]
  },
  {
   "cell_type": "code",
   "execution_count": 91,
   "id": "b5613eb6",
   "metadata": {},
   "outputs": [],
   "source": [
    "#Define final pipeline with chosen preprocessing steps and model\n",
    "\n",
    "#takes in raw movie reviews\n",
    "\n",
    "pattern = \"[A-Za-zÀ-ÿ]+\"\n",
    "\n",
    "final_vectorizer = TfidfVectorizer(stop_words=stopwords_list,\n",
    "                                       max_features=20000,\n",
    "                                       token_pattern=pattern,\n",
    "                                       ngram_range=(1,2),\n",
    "                                       min_df=5,\n",
    "                                       max_df=.6\n",
    "                                      )\n",
    "\n",
    "final_selector = SelectPercentile(chi2,percentile=60)\n",
    "\n",
    "final_model=LogisticRegression(max_iter=1000,\n",
    "                               C=5,\n",
    "                               penalty='l2',\n",
    "                               solver='saga')\n",
    "\n",
    "final_pipeline=Pipeline(steps=[\n",
    "    ('vectorizer',final_vectorizer),\n",
    "    ('selector',final_selector),\n",
    "    ('model',final_model)])"
   ]
  },
  {
   "cell_type": "code",
   "execution_count": 92,
   "id": "c52b4f96",
   "metadata": {},
   "outputs": [
    {
     "data": {
      "text/plain": [
       "array([0.88609375, 0.88890625, 0.88828125, 0.88609375, 0.89109375])"
      ]
     },
     "execution_count": 92,
     "metadata": {},
     "output_type": "execute_result"
    }
   ],
   "source": [
    "cross_val_score(final_pipeline,X_train,y_train)"
   ]
  },
  {
   "cell_type": "code",
   "execution_count": 93,
   "id": "a884b1b1",
   "metadata": {},
   "outputs": [
    {
     "data": {
      "text/plain": [
       "0.88875"
      ]
     },
     "execution_count": 93,
     "metadata": {},
     "output_type": "execute_result"
    }
   ],
   "source": [
    "final_pipeline.fit(X_train,y_train)\n",
    "\n",
    "final_pipeline.score(X_test,y_test)"
   ]
  },
  {
   "cell_type": "code",
   "execution_count": 94,
   "id": "27cc46b4",
   "metadata": {},
   "outputs": [
    {
     "name": "stdout",
     "output_type": "stream",
     "text": [
      "roc-auc for the final model is: 0.9411011542021583\n"
     ]
    }
   ],
   "source": [
    "y_hat_prob=final_pipeline.predict_proba(X_test)[:,1]\n",
    "roc_auc=roc_auc_score(y_test,y_hat_prob)\n",
    "print('roc-auc for the final model is: {}'.format(roc_auc))"
   ]
  },
  {
   "cell_type": "code",
   "execution_count": 95,
   "id": "937b3539",
   "metadata": {},
   "outputs": [
    {
     "data": {
      "text/plain": [
       "<sklearn.metrics._plot.confusion_matrix.ConfusionMatrixDisplay at 0x1dd237a2288>"
      ]
     },
     "execution_count": 95,
     "metadata": {},
     "output_type": "execute_result"
    },
    {
     "data": {
      "image/png": "[encoded data removed]",
      "text/plain": [
       "<Figure size 432x288 with 2 Axes>"
      ]
     },
     "metadata": {
      "needs_background": "light"
     },
     "output_type": "display_data"
    }
   ],
   "source": [
    "plot_confusion_matrix(final_pipeline,X_test,y_test)"
   ]
  },
  {
   "cell_type": "code",
   "execution_count": 96,
   "id": "d5fb0a6a",
   "metadata": {},
   "outputs": [
    {
     "data": {
      "text/plain": [
       "{'0': {'precision': 0.8558427375318529,\n",
       "  'recall': 0.8263620386643233,\n",
       "  'f1-score': 0.8408440629470673,\n",
       "  'support': 2845},\n",
       " '1': {'precision': 0.9059584999048163,\n",
       "  'recall': 0.9231813773035887,\n",
       "  'f1-score': 0.9144888547271329,\n",
       "  'support': 5155},\n",
       " 'accuracy': 0.88875,\n",
       " 'macro avg': {'precision': 0.8809006187183346,\n",
       "  'recall': 0.8747717079839561,\n",
       "  'f1-score': 0.8776664588371001,\n",
       "  'support': 8000},\n",
       " 'weighted avg': {'precision': 0.8881360819109311,\n",
       "  'recall': 0.88875,\n",
       "  'f1-score': 0.8882989256503471,\n",
       "  'support': 8000}}"
      ]
     },
     "execution_count": 96,
     "metadata": {},
     "output_type": "execute_result"
    }
   ],
   "source": [
    "y_hat=final_pipeline.predict(X_test)\n",
    "classification_report(y_test,y_hat,output_dict=True)"
   ]
  },
  {
   "cell_type": "code",
   "execution_count": 97,
   "id": "da71c14e",
   "metadata": {},
   "outputs": [],
   "source": [
    "logreg_coef=final_pipeline.get_params()['model'].coef_[0]"
   ]
  },
  {
   "cell_type": "code",
   "execution_count": 98,
   "id": "3f602ebc",
   "metadata": {},
   "outputs": [
    {
     "data": {
      "text/plain": [
       "4395"
      ]
     },
     "execution_count": 98,
     "metadata": {},
     "output_type": "execute_result"
    }
   ],
   "source": [
    "len(logreg_coef)"
   ]
  },
  {
   "cell_type": "code",
   "execution_count": 99,
   "id": "6fc6f16d",
   "metadata": {},
   "outputs": [
    {
     "data": {
      "text/plain": [
       "array([-2.05926075, -0.83368114,  0.73711209, ..., -0.62518158,\n",
       "       -1.05971863, -1.89959305])"
      ]
     },
     "execution_count": 99,
     "metadata": {},
     "output_type": "execute_result"
    }
   ],
   "source": [
    "logreg_coef"
   ]
  },
  {
   "cell_type": "code",
   "execution_count": 100,
   "id": "7d40fca6",
   "metadata": {},
   "outputs": [],
   "source": [
    "tfidf_mapping=final_pipeline.get_params()['vectorizer'].vocabulary_"
   ]
  },
  {
   "cell_type": "code",
   "execution_count": 101,
   "id": "acdeb256",
   "metadata": {},
   "outputs": [
    {
     "data": {
      "text/plain": [
       "[('insatisfeita', 3478),\n",
       " ('pois', 4749),\n",
       " ('comprei', 1396),\n",
       " ('produto', 5221),\n",
       " ('recebi', 5839),\n",
       " ('nenhuma', 4163),\n",
       " ('posição', 4839),\n",
       " ('devo', 2039),\n",
       " ('proceder', 5207),\n",
       " ('obter', 4267)]"
      ]
     },
     "execution_count": 101,
     "metadata": {},
     "output_type": "execute_result"
    }
   ],
   "source": [
    "tfidf_map=[(x,tfidf_mapping[x]) for x in tfidf_mapping]\n",
    "tfidf_map[:10]"
   ]
  },
  {
   "cell_type": "code",
   "execution_count": 102,
   "id": "dbb97c5e",
   "metadata": {},
   "outputs": [],
   "source": [
    "tfidf_map.sort(key=lambda x: x[1])"
   ]
  },
  {
   "cell_type": "code",
   "execution_count": 103,
   "id": "0fd8a9b7",
   "metadata": {},
   "outputs": [
    {
     "data": {
      "text/plain": [
       "[('abaixo', 0), ('abajur', 1), ('abençoe', 2), ('aberta', 3), ('aberto', 4)]"
      ]
     },
     "execution_count": 103,
     "metadata": {},
     "output_type": "execute_result"
    }
   ],
   "source": [
    "tfidf_map[:5]"
   ]
  },
  {
   "cell_type": "code",
   "execution_count": 104,
   "id": "4254a271",
   "metadata": {},
   "outputs": [
    {
     "data": {
      "text/plain": [
       "['abaixo',\n",
       " 'abajur',\n",
       " 'abençoe',\n",
       " 'aberta',\n",
       " 'aberto',\n",
       " 'abraço',\n",
       " 'abraços',\n",
       " 'abri',\n",
       " 'abri caixa',\n",
       " 'abri chamado']"
      ]
     },
     "execution_count": 104,
     "metadata": {},
     "output_type": "execute_result"
    }
   ],
   "source": [
    "vocab_tfidf=[x[0] for x in tfidf_map]\n",
    "vocab_tfidf[:10]"
   ]
  },
  {
   "cell_type": "code",
   "execution_count": 105,
   "id": "58b65a76",
   "metadata": {},
   "outputs": [
    {
     "data": {
      "text/plain": [
       "SelectPercentile(percentile=60,\n",
       "                 score_func=<function chi2 at 0x000001DD0014D0D8>)"
      ]
     },
     "execution_count": 105,
     "metadata": {},
     "output_type": "execute_result"
    }
   ],
   "source": [
    "fitted_sel=final_pipeline.get_params()['selector']\n",
    "fitted_sel"
   ]
  },
  {
   "cell_type": "code",
   "execution_count": 106,
   "id": "a0fecf99",
   "metadata": {},
   "outputs": [],
   "source": [
    "mask=fitted_sel.get_support()"
   ]
  },
  {
   "cell_type": "code",
   "execution_count": 107,
   "id": "20caef28",
   "metadata": {},
   "outputs": [
    {
     "data": {
      "text/plain": [
       "array([False, False, False, ..., False, False, False])"
      ]
     },
     "execution_count": 107,
     "metadata": {},
     "output_type": "execute_result"
    }
   ],
   "source": [
    "mask"
   ]
  },
  {
   "cell_type": "code",
   "execution_count": 108,
   "id": "bff19bcf",
   "metadata": {},
   "outputs": [],
   "source": [
    "final_vocab=np.array(vocab_tfidf)[mask]"
   ]
  },
  {
   "cell_type": "code",
   "execution_count": 109,
   "id": "fecfc7ba",
   "metadata": {},
   "outputs": [
    {
     "data": {
      "text/plain": [
       "4395"
      ]
     },
     "execution_count": 109,
     "metadata": {},
     "output_type": "execute_result"
    }
   ],
   "source": [
    "len(final_vocab)"
   ]
  },
  {
   "cell_type": "code",
   "execution_count": 110,
   "id": "f91dd34b",
   "metadata": {},
   "outputs": [
    {
     "data": {
      "text/html": [
       "<div>\n",
       "<style scoped>\n",
       "    .dataframe tbody tr th:only-of-type {\n",
       "        vertical-align: middle;\n",
       "    }\n",
       "\n",
       "    .dataframe tbody tr th {\n",
       "        vertical-align: top;\n",
       "    }\n",
       "\n",
       "    .dataframe thead th {\n",
       "        text-align: right;\n",
       "    }\n",
       "</style>\n",
       "<table border=\"1\" class=\"dataframe\">\n",
       "  <thead>\n",
       "    <tr style=\"text-align: right;\">\n",
       "      <th></th>\n",
       "      <th>word</th>\n",
       "      <th>coef</th>\n",
       "    </tr>\n",
       "  </thead>\n",
       "  <tbody>\n",
       "    <tr>\n",
       "      <th>0</th>\n",
       "      <td>aberta</td>\n",
       "      <td>-2.059261</td>\n",
       "    </tr>\n",
       "    <tr>\n",
       "      <th>1</th>\n",
       "      <td>aberto</td>\n",
       "      <td>-0.833681</td>\n",
       "    </tr>\n",
       "    <tr>\n",
       "      <th>2</th>\n",
       "      <td>abraços</td>\n",
       "      <td>0.737112</td>\n",
       "    </tr>\n",
       "    <tr>\n",
       "      <th>3</th>\n",
       "      <td>abri</td>\n",
       "      <td>1.331324</td>\n",
       "    </tr>\n",
       "    <tr>\n",
       "      <th>4</th>\n",
       "      <td>abri chamado</td>\n",
       "      <td>-1.202490</td>\n",
       "    </tr>\n",
       "  </tbody>\n",
       "</table>\n",
       "</div>"
      ],
      "text/plain": [
       "           word      coef\n",
       "0        aberta -2.059261\n",
       "1        aberto -0.833681\n",
       "2       abraços  0.737112\n",
       "3          abri  1.331324\n",
       "4  abri chamado -1.202490"
      ]
     },
     "execution_count": 110,
     "metadata": {},
     "output_type": "execute_result"
    }
   ],
   "source": [
    "coef_df=pd.DataFrame(list(zip(final_vocab,logreg_coef)),columns=['word','coef'])\n",
    "coef_df.head()"
   ]
  },
  {
   "cell_type": "code",
   "execution_count": 111,
   "id": "2a8ce564",
   "metadata": {},
   "outputs": [
    {
     "data": {
      "text/html": [
       "<div>\n",
       "<style scoped>\n",
       "    .dataframe tbody tr th:only-of-type {\n",
       "        vertical-align: middle;\n",
       "    }\n",
       "\n",
       "    .dataframe tbody tr th {\n",
       "        vertical-align: top;\n",
       "    }\n",
       "\n",
       "    .dataframe thead th {\n",
       "        text-align: right;\n",
       "    }\n",
       "</style>\n",
       "<table border=\"1\" class=\"dataframe\">\n",
       "  <thead>\n",
       "    <tr style=\"text-align: right;\">\n",
       "      <th></th>\n",
       "      <th>word</th>\n",
       "      <th>coef</th>\n",
       "    </tr>\n",
       "  </thead>\n",
       "  <tbody>\n",
       "    <tr>\n",
       "      <th>2602</th>\n",
       "      <td>parabéns</td>\n",
       "      <td>6.512440</td>\n",
       "    </tr>\n",
       "    <tr>\n",
       "      <th>52</th>\n",
       "      <td>adorei</td>\n",
       "      <td>5.818150</td>\n",
       "    </tr>\n",
       "    <tr>\n",
       "      <th>1652</th>\n",
       "      <td>excelente</td>\n",
       "      <td>5.695199</td>\n",
       "    </tr>\n",
       "    <tr>\n",
       "      <th>2736</th>\n",
       "      <td>perfeito</td>\n",
       "      <td>5.504220</td>\n",
       "    </tr>\n",
       "    <tr>\n",
       "      <th>205</th>\n",
       "      <td>antes</td>\n",
       "      <td>5.430639</td>\n",
       "    </tr>\n",
       "  </tbody>\n",
       "</table>\n",
       "</div>"
      ],
      "text/plain": [
       "           word      coef\n",
       "2602   parabéns  6.512440\n",
       "52       adorei  5.818150\n",
       "1652  excelente  5.695199\n",
       "2736   perfeito  5.504220\n",
       "205       antes  5.430639"
      ]
     },
     "execution_count": 111,
     "metadata": {},
     "output_type": "execute_result"
    }
   ],
   "source": [
    "coef_df.sort_values(by='coef',ascending=False).head()"
   ]
  },
  {
   "cell_type": "code",
   "execution_count": 112,
   "id": "e081a92f",
   "metadata": {},
   "outputs": [],
   "source": [
    "word_dict_negative = {}\n",
    "word_dict_positive = {}\n",
    "for row in coef_df.sort_values(by='coef',ascending=False).iterrows():\n",
    "    if(row[1]['coef'] >= 0):\n",
    "        word_dict_positive[row[1]['word']] = row[1]['coef']\n",
    "    else:\n",
    "        word_dict_negative[row[1]['word']] = -1 * row[1]['coef']"
   ]
  },
  {
   "cell_type": "code",
   "execution_count": 113,
   "id": "a505881a",
   "metadata": {},
   "outputs": [],
   "source": [
    "#positives from logistic regression"
   ]
  },
  {
   "cell_type": "code",
   "execution_count": 114,
   "id": "41509725",
   "metadata": {},
   "outputs": [],
   "source": [
    "from statistics import mean \n",
    "from sklearn import preprocessing\n",
    "import numpy as np\n",
    "\n",
    "word_dict_positive_values_list = np.array(list(word_dict_positive.values()))\n",
    "\n",
    "scaler = preprocessing.MinMaxScaler(feature_range=(0, 1))\n",
    "values_scaled = scaler.fit_transform(word_dict_positive_values_list.reshape(-1, 1))"
   ]
  },
  {
   "cell_type": "code",
   "execution_count": 115,
   "id": "e4157356",
   "metadata": {},
   "outputs": [],
   "source": [
    "i = 0\n",
    "word_dict_positive_scaled = {}\n",
    "for key in word_dict_positive.keys():\n",
    "    key_splitted_values = key.split()\n",
    "    if(len(key_splitted_values) > 1):\n",
    "        for key_splitted in key_splitted_values:\n",
    "            if (key_splitted not in word_dict_positive_scaled.keys()):\n",
    "                word_dict_positive_scaled[key_splitted] = values_scaled[i][0]\n",
    "    else:\n",
    "        word_dict_positive_scaled[key] = values_scaled[i][0]\n",
    "    i = i + 1"
   ]
  },
  {
   "cell_type": "code",
   "execution_count": 116,
   "id": "c639a99e",
   "metadata": {},
   "outputs": [],
   "source": [
    "word_dict_positive_final = dict(sorted(word_dict_positive_scaled.items(), key=lambda item: item[1]))"
   ]
  },
  {
   "cell_type": "code",
   "execution_count": 117,
   "id": "9893117a",
   "metadata": {},
   "outputs": [
    {
     "name": "stdout",
     "output_type": "stream",
     "text": [
      "742\n"
     ]
    }
   ],
   "source": [
    "print(len(word_dict_positive_final))"
   ]
  },
  {
   "cell_type": "code",
   "execution_count": 118,
   "id": "8db62cbf",
   "metadata": {},
   "outputs": [],
   "source": [
    "# negatives from logistic regression"
   ]
  },
  {
   "cell_type": "code",
   "execution_count": 119,
   "id": "fc834c11",
   "metadata": {},
   "outputs": [],
   "source": [
    "from statistics import mean \n",
    "from sklearn import preprocessing\n",
    "import numpy as np\n",
    "\n",
    "word_dict_negative_scaled = {}\n",
    "\n",
    "word_dict_negative_values_list = np.array(list(word_dict_negative.values()))\n",
    "\n",
    "scaler = preprocessing.MinMaxScaler(feature_range=(0, 1))\n",
    "values_scaled = scaler.fit_transform(word_dict_negative_values_list.reshape(-1, 1))"
   ]
  },
  {
   "cell_type": "code",
   "execution_count": 120,
   "id": "546332ec",
   "metadata": {},
   "outputs": [],
   "source": [
    "i = 0\n",
    "for key in word_dict_negative.keys():\n",
    "    key_splitted_values = key.split()\n",
    "    if(len(key_splitted_values) > 1):\n",
    "        for key_splitted in key_splitted_values:\n",
    "            if (key_splitted not in word_dict_negative_scaled.keys()): \n",
    "                word_dict_negative_scaled[key_splitted] = values_scaled[i][0]\n",
    "    else:\n",
    "        word_dict_negative_scaled[key] = values_scaled[i][0]\n",
    "    i = i + 1"
   ]
  },
  {
   "cell_type": "code",
   "execution_count": 121,
   "id": "d907b3fc",
   "metadata": {},
   "outputs": [],
   "source": [
    "word_dict_negative_final = dict(sorted(word_dict_negative_scaled.items(), key=lambda item: item[1]))"
   ]
  },
  {
   "cell_type": "code",
   "execution_count": 122,
   "id": "e658e71c",
   "metadata": {},
   "outputs": [
    {
     "name": "stdout",
     "output_type": "stream",
     "text": [
      "1514\n"
     ]
    }
   ],
   "source": [
    "print(len(word_dict_negative_final))"
   ]
  },
  {
   "cell_type": "code",
   "execution_count": null,
   "id": "cb362cbf",
   "metadata": {},
   "outputs": [],
   "source": []
  }
 ],
 "metadata": {
  "kernelspec": {
   "display_name": "Python 3.7 (phd)",
   "language": "python",
   "name": "phd"
  },
  "language_info": {
   "codemirror_mode": {
    "name": "ipython",
    "version": 3
   },
   "file_extension": ".py",
   "mimetype": "text/x-python",
   "name": "python",
   "nbconvert_exporter": "python",
   "pygments_lexer": "ipython3",
   "version": "3.7.11"
  }
 },
 "nbformat": 4,
 "nbformat_minor": 5
}
