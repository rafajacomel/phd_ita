{
 "cells": [
  {
   "cell_type": "code",
   "execution_count": 1,
   "id": "1cfd2aa8",
   "metadata": {},
   "outputs": [],
   "source": [
    "import pandas as pd\n",
    "import numpy as np"
   ]
  },
  {
   "cell_type": "code",
   "execution_count": 6,
   "id": "119f09d6",
   "metadata": {},
   "outputs": [],
   "source": [
    "%run tokenize_and_create_vocabulary.ipynb\n",
    "%run graphics_setup.ipynb\n",
    "%run init_phd.ipynb"
   ]
  },
  {
   "cell_type": "code",
   "execution_count": 7,
   "id": "47816f8c",
   "metadata": {},
   "outputs": [],
   "source": [
    "#@save\n",
    "def read_english(data_dir, is_train):\n",
    "    df = pd.read_csv(data_dir)\n",
    "    data, labels = [], []\n",
    "    for index, row in df.iterrows():\n",
    "        \n",
    "        if((not(pd.isnull(row['text'])) \n",
    "            and (not(pd.isnull(row['text']))))):\n",
    "                data.append(row['text'])\n",
    "                labels.append(row['label'])\n",
    "                \n",
    "    cut_index=int(len(data)/3)\n",
    "    \n",
    "    if (is_train):\n",
    "        return data[cut_index:], labels[cut_index:]\n",
    "    else:\n",
    "        return data[0:cut_index], labels[0:cut_index] "
   ]
  },
  {
   "cell_type": "code",
   "execution_count": 8,
   "id": "6f80c9d9",
   "metadata": {},
   "outputs": [],
   "source": [
    "#@save\n",
    "def load_data_english(batch_size, num_steps=500):\n",
    "    olist_data_dir = DATA_HUB['imdb_data_dir']\n",
    "    train_data = read_english(olist_data_dir, True)\n",
    "    test_data = read_english(olist_data_dir, False)\n",
    "    train_tokens = tokenize(train_data[0], token='word')\n",
    "    test_tokens = tokenize(test_data[0], token='word')  \n",
    "    vocab = Vocab(train_tokens, min_freq=5)\n",
    "    train_features = torch.tensor([truncate_pad(\n",
    "        vocab[line], num_steps, vocab['<pad>']) for line in train_tokens])\n",
    "    test_features = torch.tensor([truncate_pad(\n",
    "        vocab[line], num_steps, vocab['<pad>']) for line in test_tokens])\n",
    "  \n",
    "    train_iter = load_array((train_features, torch.tensor(train_data[1])),\n",
    "                                batch_size)\n",
    "    test_iter = load_array((test_features, torch.tensor(test_data[1])),\n",
    "                               batch_size,\n",
    "                               is_train=False)\n",
    "    \n",
    "        \n",
    "    return train_iter, test_iter, vocab"
   ]
  }
 ],
 "metadata": {
  "kernelspec": {
   "display_name": "Python 3.7 (phd)",
   "language": "python",
   "name": "phd"
  },
  "language_info": {
   "codemirror_mode": {
    "name": "ipython",
    "version": 3
   },
   "file_extension": ".py",
   "mimetype": "text/x-python",
   "name": "python",
   "nbconvert_exporter": "python",
   "pygments_lexer": "ipython3",
   "version": "3.7.11"
  }
 },
 "nbformat": 4,
 "nbformat_minor": 5
}
